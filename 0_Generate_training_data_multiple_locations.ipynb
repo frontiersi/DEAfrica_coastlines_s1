{
 "cells": [
  {
   "cell_type": "markdown",
   "id": "d54689fe-537a-42cf-bd7a-c20ebddc8447",
   "metadata": {},
   "source": [
    "# Generate land/water training data on Sentinel-1 data using Sentinel-2 data"
   ]
  },
  {
   "cell_type": "markdown",
   "id": "9861c432-9490-40a2-9989-c11eb5c9c259",
   "metadata": {},
   "source": [
    "## Install tools from coastlines repository"
   ]
  },
  {
   "cell_type": "code",
   "execution_count": 1,
   "id": "8a97bb67-d041-4487-87e3-45876f5f5f2c",
   "metadata": {},
   "outputs": [
    {
     "name": "stdout",
     "output_type": "stream",
     "text": [
      "Note: you may need to restart the kernel to use updated packages.\n"
     ]
    }
   ],
   "source": [
    "pip install -q git+https://github.com/digitalearthafrica/deafrica-coastlines.git --disable-pip-version-check"
   ]
  },
  {
   "cell_type": "markdown",
   "id": "5a36cb3e-5338-4f9b-834b-ca81c086acda",
   "metadata": {},
   "source": [
    "## Load packages"
   ]
  },
  {
   "cell_type": "code",
   "execution_count": 2,
   "id": "d6311795-ee05-4829-8de9-70143936fb23",
   "metadata": {},
   "outputs": [
    {
     "name": "stderr",
     "output_type": "stream",
     "text": [
      "/tmp/ipykernel_236/3819272449.py:19: DeprecationWarning: Please use `uniform_filter` from the `scipy.ndimage` namespace, the `scipy.ndimage.filters` namespace is deprecated.\n",
      "  from scipy.ndimage.filters import uniform_filter\n",
      "/tmp/ipykernel_236/3819272449.py:20: DeprecationWarning: Please use `variance` from the `scipy.ndimage` namespace, the `scipy.ndimage.measurements` namespace is deprecated.\n",
      "  from scipy.ndimage.measurements import variance\n"
     ]
    }
   ],
   "source": [
    "import os\n",
    "os.environ['USE_PYGEOS'] = '0'\n",
    "\n",
    "import datacube\n",
    "import numpy as np\n",
    "import xarray as xr\n",
    "import pandas as pd\n",
    "import geopandas as gpd\n",
    "import matplotlib.pyplot as plt\n",
    "from shapely.ops import nearest_points\n",
    "\n",
    "from deafrica_tools.datahandling import load_ard, mostcommon_crs\n",
    "from deafrica_tools.bandindices import calculate_indices\n",
    "from dea_tools.coastal import model_tides, tidal_tag, pixel_tides, tidal_stats\n",
    "from dea_tools.spatial import subpixel_contours\n",
    "from deafrica_tools.plotting import display_map, rgb, map_shapefile\n",
    "from deafrica_tools.dask import create_local_dask_cluster\n",
    "\n",
    "from scipy.ndimage.filters import uniform_filter\n",
    "from scipy.ndimage.measurements import variance\n",
    "from skimage.filters import threshold_minimum, threshold_otsu\n",
    "from skimage.morphology import binary_dilation,disk\n",
    "import random\n",
    "import pickle\n",
    "\n",
    "from modules import lee_filter,filter_by_tide_height,load_s1_by_orbits,process_features_s1,collect_training_samples"
   ]
  },
  {
   "cell_type": "markdown",
   "id": "988b712f-9a73-4032-b5ad-d6d7cda7914a",
   "metadata": {},
   "source": [
    "## Set up a Dask cluster"
   ]
  },
  {
   "cell_type": "code",
   "execution_count": 3,
   "id": "6020621f-b2b3-455b-abc1-889ccc4f98aa",
   "metadata": {},
   "outputs": [
    {
     "data": {
      "text/html": [
       "<div>\n",
       "    <div style=\"width: 24px; height: 24px; background-color: #e1e1e1; border: 3px solid #9D9D9D; border-radius: 5px; position: absolute;\"> </div>\n",
       "    <div style=\"margin-left: 48px;\">\n",
       "        <h3 style=\"margin-bottom: 0px;\">Client</h3>\n",
       "        <p style=\"color: #9D9D9D; margin-bottom: 0px;\">Client-b7c53321-1ba9-11ee-80ec-6ae431bd7550</p>\n",
       "        <table style=\"width: 100%; text-align: left;\">\n",
       "\n",
       "        <tr>\n",
       "        \n",
       "            <td style=\"text-align: left;\"><strong>Connection method:</strong> Cluster object</td>\n",
       "            <td style=\"text-align: left;\"><strong>Cluster type:</strong> distributed.LocalCluster</td>\n",
       "        \n",
       "        </tr>\n",
       "\n",
       "        \n",
       "            <tr>\n",
       "                <td style=\"text-align: left;\">\n",
       "                    <strong>Dashboard: </strong> <a href=\"/user/whusggliuqx@gmail.com/proxy/8787/status\" target=\"_blank\">/user/whusggliuqx@gmail.com/proxy/8787/status</a>\n",
       "                </td>\n",
       "                <td style=\"text-align: left;\"></td>\n",
       "            </tr>\n",
       "        \n",
       "\n",
       "        </table>\n",
       "\n",
       "        \n",
       "            <button style=\"margin-bottom: 12px;\" data-commandlinker-command=\"dask:populate-and-launch-layout\" data-commandlinker-args='{\"url\": \"/user/whusggliuqx@gmail.com/proxy/8787/status\" }'>\n",
       "                Launch dashboard in JupyterLab\n",
       "            </button>\n",
       "        \n",
       "\n",
       "        \n",
       "            <details>\n",
       "            <summary style=\"margin-bottom: 20px;\"><h3 style=\"display: inline;\">Cluster Info</h3></summary>\n",
       "            <div class=\"jp-RenderedHTMLCommon jp-RenderedHTML jp-mod-trusted jp-OutputArea-output\">\n",
       "    <div style=\"width: 24px; height: 24px; background-color: #e1e1e1; border: 3px solid #9D9D9D; border-radius: 5px; position: absolute;\">\n",
       "    </div>\n",
       "    <div style=\"margin-left: 48px;\">\n",
       "        <h3 style=\"margin-bottom: 0px; margin-top: 0px;\">LocalCluster</h3>\n",
       "        <p style=\"color: #9D9D9D; margin-bottom: 0px;\">b9ef699c</p>\n",
       "        <table style=\"width: 100%; text-align: left;\">\n",
       "            <tr>\n",
       "                <td style=\"text-align: left;\">\n",
       "                    <strong>Dashboard:</strong> <a href=\"/user/whusggliuqx@gmail.com/proxy/8787/status\" target=\"_blank\">/user/whusggliuqx@gmail.com/proxy/8787/status</a>\n",
       "                </td>\n",
       "                <td style=\"text-align: left;\">\n",
       "                    <strong>Workers:</strong> 1\n",
       "                </td>\n",
       "            </tr>\n",
       "            <tr>\n",
       "                <td style=\"text-align: left;\">\n",
       "                    <strong>Total threads:</strong> 4\n",
       "                </td>\n",
       "                <td style=\"text-align: left;\">\n",
       "                    <strong>Total memory:</strong> 26.21 GiB\n",
       "                </td>\n",
       "            </tr>\n",
       "            \n",
       "            <tr>\n",
       "    <td style=\"text-align: left;\"><strong>Status:</strong> running</td>\n",
       "    <td style=\"text-align: left;\"><strong>Using processes:</strong> True</td>\n",
       "</tr>\n",
       "\n",
       "            \n",
       "        </table>\n",
       "\n",
       "        <details>\n",
       "            <summary style=\"margin-bottom: 20px;\">\n",
       "                <h3 style=\"display: inline;\">Scheduler Info</h3>\n",
       "            </summary>\n",
       "\n",
       "            <div style=\"\">\n",
       "    <div>\n",
       "        <div style=\"width: 24px; height: 24px; background-color: #FFF7E5; border: 3px solid #FF6132; border-radius: 5px; position: absolute;\"> </div>\n",
       "        <div style=\"margin-left: 48px;\">\n",
       "            <h3 style=\"margin-bottom: 0px;\">Scheduler</h3>\n",
       "            <p style=\"color: #9D9D9D; margin-bottom: 0px;\">Scheduler-d71ff523-16fb-4b5d-a678-a6f62cd0e16c</p>\n",
       "            <table style=\"width: 100%; text-align: left;\">\n",
       "                <tr>\n",
       "                    <td style=\"text-align: left;\">\n",
       "                        <strong>Comm:</strong> tcp://127.0.0.1:40703\n",
       "                    </td>\n",
       "                    <td style=\"text-align: left;\">\n",
       "                        <strong>Workers:</strong> 1\n",
       "                    </td>\n",
       "                </tr>\n",
       "                <tr>\n",
       "                    <td style=\"text-align: left;\">\n",
       "                        <strong>Dashboard:</strong> <a href=\"/user/whusggliuqx@gmail.com/proxy/8787/status\" target=\"_blank\">/user/whusggliuqx@gmail.com/proxy/8787/status</a>\n",
       "                    </td>\n",
       "                    <td style=\"text-align: left;\">\n",
       "                        <strong>Total threads:</strong> 4\n",
       "                    </td>\n",
       "                </tr>\n",
       "                <tr>\n",
       "                    <td style=\"text-align: left;\">\n",
       "                        <strong>Started:</strong> Just now\n",
       "                    </td>\n",
       "                    <td style=\"text-align: left;\">\n",
       "                        <strong>Total memory:</strong> 26.21 GiB\n",
       "                    </td>\n",
       "                </tr>\n",
       "            </table>\n",
       "        </div>\n",
       "    </div>\n",
       "\n",
       "    <details style=\"margin-left: 48px;\">\n",
       "        <summary style=\"margin-bottom: 20px;\">\n",
       "            <h3 style=\"display: inline;\">Workers</h3>\n",
       "        </summary>\n",
       "\n",
       "        \n",
       "        <div style=\"margin-bottom: 20px;\">\n",
       "            <div style=\"width: 24px; height: 24px; background-color: #DBF5FF; border: 3px solid #4CC9FF; border-radius: 5px; position: absolute;\"> </div>\n",
       "            <div style=\"margin-left: 48px;\">\n",
       "            <details>\n",
       "                <summary>\n",
       "                    <h4 style=\"margin-bottom: 0px; display: inline;\">Worker: 0</h4>\n",
       "                </summary>\n",
       "                <table style=\"width: 100%; text-align: left;\">\n",
       "                    <tr>\n",
       "                        <td style=\"text-align: left;\">\n",
       "                            <strong>Comm: </strong> tcp://127.0.0.1:42395\n",
       "                        </td>\n",
       "                        <td style=\"text-align: left;\">\n",
       "                            <strong>Total threads: </strong> 4\n",
       "                        </td>\n",
       "                    </tr>\n",
       "                    <tr>\n",
       "                        <td style=\"text-align: left;\">\n",
       "                            <strong>Dashboard: </strong> <a href=\"/user/whusggliuqx@gmail.com/proxy/36207/status\" target=\"_blank\">/user/whusggliuqx@gmail.com/proxy/36207/status</a>\n",
       "                        </td>\n",
       "                        <td style=\"text-align: left;\">\n",
       "                            <strong>Memory: </strong> 26.21 GiB\n",
       "                        </td>\n",
       "                    </tr>\n",
       "                    <tr>\n",
       "                        <td style=\"text-align: left;\">\n",
       "                            <strong>Nanny: </strong> tcp://127.0.0.1:34099\n",
       "                        </td>\n",
       "                        <td style=\"text-align: left;\"></td>\n",
       "                    </tr>\n",
       "                    <tr>\n",
       "                        <td colspan=\"2\" style=\"text-align: left;\">\n",
       "                            <strong>Local directory: </strong> /tmp/dask-worker-space/worker-rvvybluq\n",
       "                        </td>\n",
       "                    </tr>\n",
       "\n",
       "                    \n",
       "\n",
       "                    \n",
       "\n",
       "                </table>\n",
       "            </details>\n",
       "            </div>\n",
       "        </div>\n",
       "        \n",
       "\n",
       "    </details>\n",
       "</div>\n",
       "\n",
       "        </details>\n",
       "    </div>\n",
       "</div>\n",
       "            </details>\n",
       "        \n",
       "\n",
       "    </div>\n",
       "</div>"
      ],
      "text/plain": [
       "<Client: 'tcp://127.0.0.1:40703' processes=1 threads=4, memory=26.21 GiB>"
      ]
     },
     "metadata": {},
     "output_type": "display_data"
    }
   ],
   "source": [
    "client = create_local_dask_cluster(return_client=True)"
   ]
  },
  {
   "cell_type": "markdown",
   "id": "a28ba2bb-b368-4d6e-859e-73abe5c2a42e",
   "metadata": {},
   "source": [
    "## Connect to the datacube"
   ]
  },
  {
   "cell_type": "code",
   "execution_count": 4,
   "id": "741e387a-a6ea-45de-9fe9-5b09608814f5",
   "metadata": {},
   "outputs": [],
   "source": [
    "dc = datacube.Datacube(app=\"Sentinel-1 land water training data extraction\")"
   ]
  },
  {
   "cell_type": "markdown",
   "id": "bea9654c-c192-4754-b28f-fa2bd78cf0dc",
   "metadata": {},
   "source": [
    "## Define parameters"
   ]
  },
  {
   "cell_type": "code",
   "execution_count": 5,
   "id": "b2835307-c23a-43d5-b563-768b5a653e88",
   "metadata": {},
   "outputs": [],
   "source": [
    "# Define areas of interest\n",
    "locations={'Madagascar_west':(-17.474,43.924),\n",
    "           'Madagascar_south':(-25.572,45.538),\n",
    "           'Tanzania':(-6.32,39.280),\n",
    "           'Kenya':(-4.025,39.725),\n",
    "           'Comoros':(-12.4,43.736)\n",
    "          }\n",
    "\n",
    "# Set the range of dates for the analysis, time step and tide range\n",
    "time_range = ('2018', '2021')\n",
    "time_step = '1Y'\n",
    "tide_range = (0.25, 0.75)\n",
    "\n",
    "# whether to apply orbit filtering\n",
    "s1_orbit_filtering=True\n",
    "\n",
    "# Lee filtering size\n",
    "filter_size=2\n",
    "\n",
    "# maximum number of samples per location\n",
    "max_samples=10000\n",
    "\n",
    "out_folder='data'\n",
    "if not os.path.exists(out_folder):\n",
    "    os.makedirs(out_folder)"
   ]
  },
  {
   "cell_type": "markdown",
   "id": "0fedd6ef-74cf-4a92-93c5-48affcf5e580",
   "metadata": {},
   "source": [
    "## Collect training data for all locations"
   ]
  },
  {
   "cell_type": "code",
   "execution_count": 6,
   "id": "d444642f-a843-45ff-bff0-50f4e6f76ae2",
   "metadata": {},
   "outputs": [
    {
     "name": "stdout",
     "output_type": "stream",
     "text": [
      "Collecting training data for location  Madagarscar_west\n",
      "\n",
      "Querying and loading Sentinel-1 ascending data...\n",
      "Using pixel quality parameters for Sentinel 1\n",
      "Finding datasets\n",
      "    s1_rtc\n",
      "Applying pixel quality/cloud mask\n",
      "Returning 1 time steps as a dask array\n",
      "\n",
      "Querying and loading Sentinel-1 descending data...\n",
      "Using pixel quality parameters for Sentinel 1\n",
      "Finding datasets\n",
      "    s1_rtc\n",
      "Applying pixel quality/cloud mask\n",
      "Returning 145 time steps as a dask array\n",
      "Tide modelling and filtering for Sentinel-1...\n",
      "Creating reduced resolution 5000 x 5000 metre tide modelling array\n",
      "Modelling tides using FES2014 tide model\n",
      "Reprojecting tides into original array\n"
     ]
    },
    {
     "name": "stderr",
     "output_type": "stream",
     "text": [
      "100%|██████████| 146/146 [00:00<00:00, 166.80it/s]\n"
     ]
    },
    {
     "name": "stdout",
     "output_type": "stream",
     "text": [
      "Applying Lee filtering using filtering size of 2 pixels...\n",
      "\n",
      "Filtering Sentinel-1 product by orbit...\n"
     ]
    },
    {
     "name": "stderr",
     "output_type": "stream",
     "text": [
      "/usr/local/lib/python3.10/dist-packages/rasterio/warp.py:344: NotGeoreferencedWarning: Dataset has no geotransform, gcps, or rpcs. The identity matrix will be returned.\n",
      "  _reproject(\n"
     ]
    },
    {
     "name": "stdout",
     "output_type": "stream",
     "text": [
      "Calculating features for Sentinel-1\n",
      "Generate temporal composites...\n",
      "\n",
      "Querying Sentinel-2 data...\n",
      "Using pixel quality parameters for Sentinel 2\n",
      "Finding datasets\n",
      "    s2_l2a\n",
      "Counting good quality pixels for each time step\n",
      "Filtering to 197 out of 288 time steps with at least 80.0% good quality pixels\n",
      "Applying morphological filters to pq mask [('opening', 2), ('dilation', 5)]\n",
      "Applying pixel quality/cloud mask\n",
      "Returning 197 time steps as a dask array\n",
      "Tide modelling and filtering for Sentinel-2...\n",
      "Creating reduced resolution 5000 x 5000 metre tide modelling array\n",
      "Modelling tides using FES2014 tide model\n",
      "Reprojecting tides into original array\n"
     ]
    },
    {
     "name": "stderr",
     "output_type": "stream",
     "text": [
      "100%|██████████| 197/197 [00:01<00:00, 174.78it/s]\n"
     ]
    },
    {
     "name": "stdout",
     "output_type": "stream",
     "text": [
      "\n",
      "Collecting water/non-water samples...\n",
      "\n",
      "Calculating simplified coastal zone mask...\n",
      "\n",
      "Applying buffering of 10 Sentinel-2 pixels (parameter buffer_pixels)...\n",
      "Number of samples available:  167846\n",
      "Saving data...\n",
      "Collecting training data for location  Madagarscar_south\n",
      "\n",
      "Querying and loading Sentinel-1 ascending data...\n",
      "Using pixel quality parameters for Sentinel 1\n",
      "Finding datasets\n",
      "    s1_rtc\n",
      "Applying pixel quality/cloud mask\n",
      "Returning 3 time steps as a dask array\n",
      "\n",
      "Querying and loading Sentinel-1 descending data...\n",
      "Using pixel quality parameters for Sentinel 1\n",
      "Finding datasets\n",
      "    s1_rtc\n",
      "Applying pixel quality/cloud mask\n",
      "Returning 116 time steps as a dask array\n",
      "Tide modelling and filtering for Sentinel-1...\n",
      "Creating reduced resolution 5000 x 5000 metre tide modelling array\n",
      "Modelling tides using FES2014 tide model\n",
      "Reprojecting tides into original array\n"
     ]
    },
    {
     "name": "stderr",
     "output_type": "stream",
     "text": [
      "100%|██████████| 119/119 [00:00<00:00, 177.46it/s]\n"
     ]
    },
    {
     "name": "stdout",
     "output_type": "stream",
     "text": [
      "Applying Lee filtering using filtering size of 2 pixels...\n",
      "\n",
      "Filtering Sentinel-1 product by orbit...\n",
      "Calculating features for Sentinel-1\n",
      "Generate temporal composites...\n",
      "\n",
      "Querying Sentinel-2 data...\n",
      "Using pixel quality parameters for Sentinel 2\n",
      "Finding datasets\n",
      "    s2_l2a\n",
      "Counting good quality pixels for each time step\n",
      "Filtering to 366 out of 574 time steps with at least 80.0% good quality pixels\n",
      "Applying morphological filters to pq mask [('opening', 2), ('dilation', 5)]\n",
      "Applying pixel quality/cloud mask\n",
      "Returning 366 time steps as a dask array\n",
      "Tide modelling and filtering for Sentinel-2...\n",
      "Creating reduced resolution 5000 x 5000 metre tide modelling array\n",
      "Modelling tides using FES2014 tide model\n",
      "Reprojecting tides into original array\n"
     ]
    },
    {
     "name": "stderr",
     "output_type": "stream",
     "text": [
      "100%|██████████| 366/366 [00:01<00:00, 183.82it/s]\n"
     ]
    },
    {
     "name": "stdout",
     "output_type": "stream",
     "text": [
      "\n",
      "Collecting water/non-water samples...\n",
      "\n",
      "Calculating simplified coastal zone mask...\n",
      "\n",
      "Applying buffering of 10 Sentinel-2 pixels (parameter buffer_pixels)...\n",
      "Number of samples available:  25741\n",
      "Saving data...\n",
      "Collecting training data for location  Tanzania\n",
      "\n",
      "Querying and loading Sentinel-1 ascending data...\n",
      "Using pixel quality parameters for Sentinel 1\n",
      "Finding datasets\n",
      "    s1_rtc\n",
      "Applying pixel quality/cloud mask\n",
      "Returning 118 time steps as a dask array\n",
      "\n",
      "Querying and loading Sentinel-1 descending data...\n",
      "Using pixel quality parameters for Sentinel 1\n",
      "Finding datasets\n",
      "    s1_rtc\n",
      "Applying pixel quality/cloud mask\n",
      "Returning 55 time steps as a dask array\n",
      "Tide modelling and filtering for Sentinel-1...\n",
      "Creating reduced resolution 5000 x 5000 metre tide modelling array\n",
      "Modelling tides using FES2014 tide model\n",
      "Reprojecting tides into original array\n"
     ]
    },
    {
     "name": "stderr",
     "output_type": "stream",
     "text": [
      "100%|██████████| 173/173 [00:01<00:00, 166.97it/s]\n"
     ]
    },
    {
     "name": "stdout",
     "output_type": "stream",
     "text": [
      "Applying Lee filtering using filtering size of 2 pixels...\n",
      "\n",
      "Filtering Sentinel-1 product by orbit...\n",
      "Calculating features for Sentinel-1\n",
      "Generate temporal composites...\n",
      "\n",
      "Querying Sentinel-2 data...\n",
      "Using pixel quality parameters for Sentinel 2\n",
      "Finding datasets\n",
      "    s2_l2a\n",
      "Counting good quality pixels for each time step\n",
      "Filtering to 133 out of 285 time steps with at least 80.0% good quality pixels\n",
      "Applying morphological filters to pq mask [('opening', 2), ('dilation', 5)]\n",
      "Applying pixel quality/cloud mask\n",
      "Returning 133 time steps as a dask array\n",
      "Tide modelling and filtering for Sentinel-2...\n",
      "Creating reduced resolution 5000 x 5000 metre tide modelling array\n",
      "Modelling tides using FES2014 tide model\n",
      "Reprojecting tides into original array\n"
     ]
    },
    {
     "name": "stderr",
     "output_type": "stream",
     "text": [
      "100%|██████████| 133/133 [00:00<00:00, 165.19it/s]\n"
     ]
    },
    {
     "name": "stdout",
     "output_type": "stream",
     "text": [
      "\n",
      "Collecting water/non-water samples...\n",
      "\n",
      "Calculating simplified coastal zone mask...\n",
      "\n",
      "Applying buffering of 10 Sentinel-2 pixels (parameter buffer_pixels)...\n",
      "Number of samples available:  72372\n",
      "Saving data...\n",
      "Collecting training data for location  Kenya\n",
      "\n",
      "Querying and loading Sentinel-1 ascending data...\n",
      "Using pixel quality parameters for Sentinel 1\n",
      "Finding datasets\n",
      "    s1_rtc\n",
      "Applying pixel quality/cloud mask\n",
      "Returning 121 time steps as a dask array\n",
      "\n",
      "Querying and loading Sentinel-1 descending data...\n",
      "Using pixel quality parameters for Sentinel 1\n",
      "Finding datasets\n",
      "    s1_rtc\n",
      "Applying pixel quality/cloud mask\n",
      "Returning 55 time steps as a dask array\n",
      "Tide modelling and filtering for Sentinel-1...\n",
      "Creating reduced resolution 5000 x 5000 metre tide modelling array\n",
      "Modelling tides using FES2014 tide model\n",
      "Reprojecting tides into original array\n"
     ]
    },
    {
     "name": "stderr",
     "output_type": "stream",
     "text": [
      "100%|██████████| 176/176 [00:01<00:00, 164.66it/s]\n"
     ]
    },
    {
     "name": "stdout",
     "output_type": "stream",
     "text": [
      "Applying Lee filtering using filtering size of 2 pixels...\n",
      "\n",
      "Filtering Sentinel-1 product by orbit...\n",
      "Calculating features for Sentinel-1\n",
      "Generate temporal composites...\n",
      "\n",
      "Querying Sentinel-2 data...\n",
      "Using pixel quality parameters for Sentinel 2\n",
      "Finding datasets\n",
      "    s2_l2a\n",
      "Counting good quality pixels for each time step\n",
      "Filtering to 148 out of 285 time steps with at least 80.0% good quality pixels\n",
      "Applying morphological filters to pq mask [('opening', 2), ('dilation', 5)]\n",
      "Applying pixel quality/cloud mask\n",
      "Returning 148 time steps as a dask array\n",
      "Tide modelling and filtering for Sentinel-2...\n",
      "Creating reduced resolution 5000 x 5000 metre tide modelling array\n",
      "Modelling tides using FES2014 tide model\n",
      "Reprojecting tides into original array\n"
     ]
    },
    {
     "name": "stderr",
     "output_type": "stream",
     "text": [
      "100%|██████████| 148/148 [00:01<00:00, 123.19it/s]\n"
     ]
    },
    {
     "name": "stdout",
     "output_type": "stream",
     "text": [
      "\n",
      "Collecting water/non-water samples...\n",
      "\n",
      "Calculating simplified coastal zone mask...\n",
      "\n",
      "Applying buffering of 10 Sentinel-2 pixels (parameter buffer_pixels)...\n",
      "Number of samples available:  217456\n",
      "Saving data...\n",
      "Collecting training data for location  Comoros\n",
      "\n",
      "Querying and loading Sentinel-1 ascending data...\n",
      "Using pixel quality parameters for Sentinel 1\n",
      "Finding datasets\n",
      "    s1_rtc\n",
      "Applying pixel quality/cloud mask\n",
      "Returning 92 time steps as a dask array\n",
      "\n",
      "Querying and loading Sentinel-1 descending data...\n",
      "Using pixel quality parameters for Sentinel 1\n",
      "Finding datasets\n",
      "    s1_rtc\n",
      "Applying pixel quality/cloud mask\n",
      "Returning 99 time steps as a dask array\n",
      "Tide modelling and filtering for Sentinel-1...\n",
      "Creating reduced resolution 5000 x 5000 metre tide modelling array\n",
      "Modelling tides using FES2014 tide model\n",
      "Reprojecting tides into original array\n"
     ]
    },
    {
     "name": "stderr",
     "output_type": "stream",
     "text": [
      "100%|██████████| 191/191 [00:01<00:00, 172.14it/s]\n"
     ]
    },
    {
     "name": "stdout",
     "output_type": "stream",
     "text": [
      "Applying Lee filtering using filtering size of 2 pixels...\n",
      "\n",
      "Filtering Sentinel-1 product by orbit...\n",
      "Calculating features for Sentinel-1\n",
      "Generate temporal composites...\n",
      "\n",
      "Querying Sentinel-2 data...\n",
      "Using pixel quality parameters for Sentinel 2\n",
      "Finding datasets\n",
      "    s2_l2a\n",
      "Counting good quality pixels for each time step\n",
      "Filtering to 402 out of 578 time steps with at least 80.0% good quality pixels\n",
      "Applying morphological filters to pq mask [('opening', 2), ('dilation', 5)]\n",
      "Applying pixel quality/cloud mask\n",
      "Returning 402 time steps as a dask array\n",
      "Tide modelling and filtering for Sentinel-2...\n",
      "Creating reduced resolution 5000 x 5000 metre tide modelling array\n",
      "Modelling tides using FES2014 tide model\n",
      "Reprojecting tides into original array\n"
     ]
    },
    {
     "name": "stderr",
     "output_type": "stream",
     "text": [
      "100%|██████████| 402/402 [00:03<00:00, 133.76it/s]\n"
     ]
    },
    {
     "name": "stdout",
     "output_type": "stream",
     "text": [
      "\n",
      "Collecting water/non-water samples...\n",
      "\n",
      "Calculating simplified coastal zone mask...\n",
      "\n",
      "Applying buffering of 10 Sentinel-2 pixels (parameter buffer_pixels)...\n",
      "Number of samples available:  133016\n",
      "Saving data...\n"
     ]
    }
   ],
   "source": [
    "for location_name in locations:\n",
    "    print('Collecting training data for location ',location_name)\n",
    "    # define area of interest\n",
    "    lat=locations[location_name][0]\n",
    "    lon=locations[location_name][1]\n",
    "    \n",
    "    # Combine central lat,lon with buffer to get area of interest\n",
    "    buffer = 0.04\n",
    "    lat_range = (lat - buffer, lat + buffer)\n",
    "    lon_range = (lon - buffer, lon + buffer)\n",
    "    \n",
    "    # query S1 data\n",
    "    query = {\n",
    "        'x': lon_range,\n",
    "        'y': lat_range,\n",
    "        'time': time_range,\n",
    "        'measurements': ['vh','vv','mask','area'], # loading vh for experiement\n",
    "        'resolution': (-20, 20),\n",
    "        'output_crs':\"EPSG:6933\",\n",
    "        'group_by':'solar_day',\n",
    "        'dask_chunks':{'time': 1}\n",
    "    }\n",
    "    \n",
    "    # load s1 by orbit\n",
    "    S1=load_s1_by_orbits(dc,query)\n",
    "    \n",
    "    # per-pixel tide modelling and filtering\n",
    "    print('Tide modelling and filtering for Sentinel-1...')\n",
    "    S1_filtered=filter_by_tide_height(S1,tide_centre=0.0)\n",
    "    \n",
    "    # preprocess S1 and extract features\n",
    "    ds_summaries_s1=process_features_s1(S1_filtered,filter_size=filter_size,\n",
    "                                    s1_orbit_filtering=s1_orbit_filtering,time_step=time_step)\n",
    "    \n",
    "    # save sentinel-1 feature names\n",
    "    feature_names=list(ds_summaries_s1.keys())\n",
    "    with open('s1_features', 'wb') as outfile:\n",
    "        pickle.dump(feature_names, outfile)\n",
    "\n",
    "    # query S2\n",
    "    print('\\nQuerying Sentinel-2 data...')\n",
    "    query.update({'measurements': ['red', 'green', 'blue', 'swir_1','nir']})\n",
    "    S2 = load_ard(dc=dc,\n",
    "                  products=['s2_l2a'],\n",
    "                  resampling='bilinear',\n",
    "                  min_gooddata=0.8,\n",
    "                  align=(10, 10),\n",
    "                  mask_filters=[(\"opening\", 2), (\"dilation\", 5)],\n",
    "                  **query)\n",
    "    \n",
    "    # Calculate S2 water index\n",
    "    S2 = calculate_indices(S2, index='MNDWI', satellite_mission='s2')\n",
    "\n",
    "    # per-pixel tide modelling and filtering\n",
    "    print('Tide modelling and filtering for Sentinel-2...')\n",
    "    S2_filtered=filter_by_tide_height(S2,tide_centre=0.0)\n",
    "\n",
    "    # generate training samples using S2\n",
    "    data,labels=collect_training_samples(S2_filtered,ds_summaries_s1,time_step,max_samples)\n",
    "    \n",
    "    # save training data\n",
    "    print('Saving data...')\n",
    "    out_file=os.path.join(out_folder,location_name)\n",
    "    if not os.path.exists(out_file):\n",
    "        np.savez(out_file,data=data,labels=labels)\n",
    "        "
   ]
  },
  {
   "cell_type": "code",
   "execution_count": 7,
   "id": "ba1c4e6e-b9f7-4baa-87e7-0602feb9f80a",
   "metadata": {},
   "outputs": [],
   "source": [
    "# Shut down Dask client now that we have processed the data we need\n",
    "client.close()"
   ]
  }
 ],
 "metadata": {
  "kernelspec": {
   "display_name": "Python 3 (ipykernel)",
   "language": "python",
   "name": "python3"
  },
  "language_info": {
   "codemirror_mode": {
    "name": "ipython",
    "version": 3
   },
   "file_extension": ".py",
   "mimetype": "text/x-python",
   "name": "python",
   "nbconvert_exporter": "python",
   "pygments_lexer": "ipython3",
   "version": "3.10.6"
  }
 },
 "nbformat": 4,
 "nbformat_minor": 5
}
